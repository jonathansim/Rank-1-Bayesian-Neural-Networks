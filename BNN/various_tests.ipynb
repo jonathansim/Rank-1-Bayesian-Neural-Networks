{
 "cells": [
  {
   "cell_type": "code",
   "execution_count": 1,
   "metadata": {},
   "outputs": [],
   "source": [
    "import math\n",
    "import torch\n",
    "import torch.nn as nn\n",
    "import torch.optim as optim\n",
    "import torchmetrics.classification\n",
    "import torchvision\n",
    "import torchvision.transforms as transforms\n",
    "from torch.utils.data import DataLoader, Subset\n",
    "import torch.nn.functional as F\n",
    "import argparse\n",
    "import numpy as np\n",
    "import torchmetrics\n",
    "import json \n",
    "from datetime import datetime\n",
    "import random\n",
    "import wandb\n",
    "\n",
    "from rank1_wide_resnet import Rank1Bayesian_WideResNet\n"
   ]
  },
  {
   "cell_type": "code",
   "execution_count": 5,
   "metadata": {},
   "outputs": [
    {
     "name": "stdout",
     "output_type": "stream",
     "text": [
      "Model1 has 36518356 parameters\n",
      "Model2 has 36635872 parameters\n",
      "Model2 has 117516 more parameters than Model1, which is a 0.32% increase\n"
     ]
    }
   ],
   "source": [
    "### Arguments\n",
    "ensemble_size1 = 1\n",
    "ensemble_size2 = 4\n",
    "\n",
    "### Models\n",
    "model1 = Rank1Bayesian_WideResNet(depth=28, widen_factor=10, num_classes=10, ensemble_size=ensemble_size1)\n",
    "model2 = Rank1Bayesian_WideResNet(depth=28, widen_factor=10, num_classes=10, ensemble_size=ensemble_size2)\n",
    "\n",
    "### Count parameters\n",
    "def count_parameters(model):\n",
    "    return sum(p.numel() for p in model.parameters() if p.requires_grad)\n",
    "\n",
    "print(f\"Model1 has {count_parameters(model1)} parameters\")\n",
    "print(f\"Model2 has {count_parameters(model2)} parameters\")\n",
    "\n",
    "### Calculate difference (absolute and percentage)\n",
    "parameter_diff = count_parameters(model2) - count_parameters(model1)\n",
    "percentage_diff = (parameter_diff / count_parameters(model1)) * 100\n",
    "print(f\"Model2 has {parameter_diff} more parameters than Model1, which is a {percentage_diff:.2f}% increase\")\n"
   ]
  }
 ],
 "metadata": {
  "kernelspec": {
   "display_name": "bachelor_torch",
   "language": "python",
   "name": "python3"
  },
  "language_info": {
   "codemirror_mode": {
    "name": "ipython",
    "version": 3
   },
   "file_extension": ".py",
   "mimetype": "text/x-python",
   "name": "python",
   "nbconvert_exporter": "python",
   "pygments_lexer": "ipython3",
   "version": "3.10.14"
  }
 },
 "nbformat": 4,
 "nbformat_minor": 2
}
