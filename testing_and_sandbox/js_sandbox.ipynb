{
 "cells": [
  {
   "cell_type": "code",
   "execution_count": 1,
   "metadata": {},
   "outputs": [],
   "source": [
    "# Load packages\n",
    "import torch\n",
    "from torch import nn\n",
    "from torch.utils.data import Dataset, DataLoader\n",
    "from torchvision import datasets, transforms\n",
    "from torchvision.transforms import ToTensor, Lambda\n",
    "import matplotlib.pyplot as plt\n",
    "import numpy as np"
   ]
  },
  {
   "cell_type": "code",
   "execution_count": 2,
   "metadata": {},
   "outputs": [
    {
     "name": "stdout",
     "output_type": "stream",
     "text": [
      "Files already downloaded and verified\n",
      "Files already downloaded and verified\n"
     ]
    }
   ],
   "source": [
    "# Load dataset (CIFAR10)\n",
    "training_data = datasets.CIFAR10(\n",
    "    root=\"data\",\n",
    "    train=True,\n",
    "    download=True,\n",
    "    transform=ToTensor(),\n",
    "    target_transform=Lambda(lambda y: torch.zeros(10, dtype=torch.float).scatter_(0, torch.tensor(y), value=1))\n",
    ")\n",
    "\n",
    "test_data = datasets.CIFAR10(\n",
    "    root=\"data\",\n",
    "    train=False,\n",
    "    download=True,\n",
    "    transform=ToTensor(),\n",
    "    target_transform=Lambda(lambda y: torch.zeros(10, dtype=torch.float).scatter_(0, torch.tensor(y), value=1))\n",
    ")"
   ]
  },
  {
   "cell_type": "code",
   "execution_count": 3,
   "metadata": {},
   "outputs": [],
   "source": [
    "#  Loaders for training and testing set\n",
    "batch_size = 64 \n",
    "\n",
    "trainloader = torch.utils.data.DataLoader(training_data,\n",
    "                                          batch_size=batch_size,\n",
    "                                          shuffle=True,\n",
    "                                          drop_last=True)\n",
    "testloader = torch.utils.data.DataLoader(test_data,\n",
    "                                          batch_size=batch_size)"
   ]
  },
  {
   "cell_type": "code",
   "execution_count": 4,
   "metadata": {},
   "outputs": [
    {
     "name": "stdout",
     "output_type": "stream",
     "text": [
      "Using mps device\n"
     ]
    }
   ],
   "source": [
    "# Figure out whether to use cpu, mps or cuda.\n",
    "\n",
    "if torch.cuda.is_available():\n",
    "    device = torch.device(\"cuda\")\n",
    "elif torch.backends.mps.is_available():\n",
    "    device = torch.device(\"mps\")\n",
    "else:\n",
    "    device = torch.device('cpu')\n",
    "print(f\"Using {device} device\")"
   ]
  },
  {
   "cell_type": "code",
   "execution_count": null,
   "metadata": {},
   "outputs": [],
   "source": [
    "# Create the NN\n",
    "class WideResnet(nn.Module):\n",
    "    def __init__(self):\n",
    "        super().__init__()\n",
    "        "
   ]
  },
  {
   "cell_type": "code",
   "execution_count": 21,
   "metadata": {},
   "outputs": [
    {
     "data": {
      "text/plain": [
       "'05-07-H13'"
      ]
     },
     "execution_count": 21,
     "metadata": {},
     "output_type": "execute_result"
    }
   ],
   "source": [
    "from datetime import datetime\n",
    "datetime.now().strftime(\"%m-%d-H%H\")"
   ]
  },
  {
   "cell_type": "code",
   "execution_count": 12,
   "metadata": {},
   "outputs": [
    {
     "data": {
      "text/plain": [
       "tensor(0.0067)"
      ]
     },
     "execution_count": 12,
     "metadata": {},
     "output_type": "execute_result"
    }
   ],
   "source": [
    "torch.log1p(torch.exp(torch.tensor(-5)))"
   ]
  },
  {
   "cell_type": "code",
   "execution_count": 77,
   "metadata": {},
   "outputs": [
    {
     "name": "stdout",
     "output_type": "stream",
     "text": [
      "KL divergence for u: 1.1262069940567017\n",
      "KL divergence for v: 0.6226749420166016\n"
     ]
    }
   ],
   "source": [
    "from torch.distributions import Normal, kl_divergence\n",
    "import torch\n",
    "\n",
    "\n",
    "# Example values\n",
    "out_features = 10\n",
    "in_features = 5\n",
    "\n",
    "# Initialize parameters\n",
    "u = torch.Tensor(out_features, 1).uniform_(-0.1, 0.1)\n",
    "v = torch.Tensor(1, in_features).uniform_(-0.1, 0.1)\n",
    "u_rho = torch.Tensor(out_features, 1).uniform_(-0.1, 0.1)\n",
    "v_rho = torch.Tensor(1, in_features).uniform_(-0.1, 0.1)\n",
    "\n",
    "# Compute standard deviations using Softplus\n",
    "u_sigma = torch.log1p(torch.exp(u_rho))\n",
    "v_sigma = torch.log1p(torch.exp(v_rho))\n",
    "\n",
    "# Define the posterior distributions\n",
    "u_posterior = Normal(u, u_sigma)\n",
    "v_posterior = Normal(v, v_sigma)\n",
    "\n",
    "# Define the prior distribution\n",
    "weight_prior = Normal(0, 1)\n",
    "\n",
    "# Compute the KL divergences\n",
    "kl_u = kl_divergence(u_posterior, weight_prior).sum()\n",
    "kl_v = kl_divergence(v_posterior, weight_prior).sum()\n",
    "\n",
    "print(f\"KL divergence for u: {kl_u.item()}\")\n",
    "print(f\"KL divergence for v: {kl_v.item()}\")"
   ]
  },
  {
   "cell_type": "code",
   "execution_count": 78,
   "metadata": {},
   "outputs": [
    {
     "name": "stdout",
     "output_type": "stream",
     "text": [
      "tensor([[-0.3965],\n",
      "        [-0.1859],\n",
      "        [ 1.3076],\n",
      "        [-0.1007],\n",
      "        [ 0.4319],\n",
      "        [ 0.1714],\n",
      "        [-0.2168],\n",
      "        [-0.1110],\n",
      "        [ 0.1618],\n",
      "        [ 0.3294]])\n",
      "tensor([[-0.8564, -0.7156, -0.3526, -0.9760,  0.2742]])\n"
     ]
    }
   ],
   "source": [
    "u_sample = Normal(u, u_sigma).rsample()\n",
    "v_sample = Normal(v, v_sigma).rsample()\n",
    "print(u_sample)\n",
    "print(v_sample)"
   ]
  },
  {
   "cell_type": "code",
   "execution_count": 89,
   "metadata": {},
   "outputs": [
    {
     "data": {
      "text/plain": [
       "tensor([[ 0.3395,  0.2837,  0.1398,  0.3870, -0.1087],\n",
       "        [ 0.1592,  0.1330,  0.0655,  0.1814, -0.0510],\n",
       "        [-1.1198, -0.9357, -0.4611, -1.2762,  0.3586],\n",
       "        [ 0.0862,  0.0721,  0.0355,  0.0983, -0.0276],\n",
       "        [-0.3699, -0.3091, -0.1523, -0.4215,  0.1184],\n",
       "        [-0.1468, -0.1226, -0.0604, -0.1673,  0.0470],\n",
       "        [ 0.1856,  0.1551,  0.0764,  0.2116, -0.0594],\n",
       "        [ 0.0951,  0.0794,  0.0391,  0.1083, -0.0304],\n",
       "        [-0.1386, -0.1158, -0.0571, -0.1579,  0.0444],\n",
       "        [-0.2821, -0.2357, -0.1162, -0.3215,  0.0903]])"
      ]
     },
     "execution_count": 89,
     "metadata": {},
     "output_type": "execute_result"
    }
   ],
   "source": [
    "rs = torch.mm(u_sample, v_sample)\n",
    "rs"
   ]
  },
  {
   "cell_type": "code",
   "execution_count": 104,
   "metadata": {},
   "outputs": [
    {
     "data": {
      "text/plain": [
       "tensor([[  3.3955,   2.8372,   1.3981,   3.8696,  -1.0873],\n",
       "        [  1.5916,   1.3299,   0.6553,   1.8139,  -0.5097],\n",
       "        [-11.1981,  -9.3568,  -4.6109, -12.7620,   3.5860],\n",
       "        [  0.8625,   0.7207,   0.3551,   0.9829,  -0.2762],\n",
       "        [ -3.6988,  -3.0907,  -1.5230,  -4.2154,   1.1845],\n",
       "        [ -1.4677,  -1.2264,  -0.6043,  -1.6727,   0.4700],\n",
       "        [  1.8563,   1.5510,   0.7643,   2.1155,  -0.5944],\n",
       "        [  0.9506,   0.7943,   0.3914,   1.0833,  -0.3044],\n",
       "        [ -1.3858,  -1.1579,  -0.5706,  -1.5793,   0.4438],\n",
       "        [ -2.8212,  -2.3573,  -1.1616,  -3.2152,   0.9034]])"
      ]
     },
     "execution_count": 104,
     "metadata": {},
     "output_type": "execute_result"
    }
   ],
   "source": [
    "w = torch.full((10, 5), 10)\n",
    "w * rs"
   ]
  },
  {
   "cell_type": "code",
   "execution_count": 108,
   "metadata": {},
   "outputs": [
    {
     "data": {
      "text/plain": [
       "tensor([[  3.3955,   2.8372,   1.3981,   3.8696,  -1.0873],\n",
       "        [  1.5916,   1.3299,   0.6553,   1.8139,  -0.5097],\n",
       "        [-11.1981,  -9.3568,  -4.6109, -12.7620,   3.5860],\n",
       "        [  0.8625,   0.7207,   0.3551,   0.9829,  -0.2762],\n",
       "        [ -3.6988,  -3.0907,  -1.5230,  -4.2154,   1.1845],\n",
       "        [ -1.4677,  -1.2264,  -0.6043,  -1.6727,   0.4700],\n",
       "        [  1.8563,   1.5510,   0.7643,   2.1155,  -0.5944],\n",
       "        [  0.9506,   0.7943,   0.3914,   1.0833,  -0.3044],\n",
       "        [ -1.3858,  -1.1579,  -0.5706,  -1.5793,   0.4438],\n",
       "        [ -2.8212,  -2.3573,  -1.1616,  -3.2152,   0.9034]])"
      ]
     },
     "execution_count": 108,
     "metadata": {},
     "output_type": "execute_result"
    }
   ],
   "source": [
    "(w * u_sample) * v_sample"
   ]
  },
  {
   "cell_type": "code",
   "execution_count": 117,
   "metadata": {},
   "outputs": [
    {
     "data": {
      "text/plain": [
       "tensor([[  3.3955,   2.8372,   1.3981,   3.8696,  -1.0873],\n",
       "        [  1.5916,   1.3299,   0.6553,   1.8139,  -0.5097],\n",
       "        [-11.1981,  -9.3568,  -4.6109, -12.7620,   3.5860],\n",
       "        [  0.8625,   0.7207,   0.3551,   0.9829,  -0.2762],\n",
       "        [ -3.6988,  -3.0907,  -1.5230,  -4.2154,   1.1845],\n",
       "        [ -1.4677,  -1.2264,  -0.6043,  -1.6727,   0.4700],\n",
       "        [  1.8563,   1.5510,   0.7643,   2.1155,  -0.5944],\n",
       "        [  0.9506,   0.7943,   0.3914,   1.0833,  -0.3044],\n",
       "        [ -1.3858,  -1.1579,  -0.5706,  -1.5793,   0.4438],\n",
       "        [ -2.8212,  -2.3573,  -1.1616,  -3.2152,   0.9034]])"
      ]
     },
     "execution_count": 117,
     "metadata": {},
     "output_type": "execute_result"
    }
   ],
   "source": [
    "(w * v_sample) * u_sample"
   ]
  },
  {
   "cell_type": "code",
   "execution_count": 143,
   "metadata": {},
   "outputs": [
    {
     "ename": "RuntimeError",
     "evalue": "The size of tensor a (10) must match the size of tensor b (3) at non-singleton dimension 2",
     "output_type": "error",
     "traceback": [
      "\u001b[0;31m---------------------------------------------------------------------------\u001b[0m",
      "\u001b[0;31mRuntimeError\u001b[0m                              Traceback (most recent call last)",
      "Cell \u001b[0;32mIn[143], line 6\u001b[0m\n\u001b[1;32m      2\u001b[0m v \u001b[38;5;241m=\u001b[39m torch\u001b[38;5;241m.\u001b[39mnn\u001b[38;5;241m.\u001b[39mParameter(torch\u001b[38;5;241m.\u001b[39mTensor(\u001b[38;5;241m1\u001b[39m, \u001b[38;5;241m5\u001b[39m, \u001b[38;5;241m3\u001b[39m, \u001b[38;5;241m3\u001b[39m)\u001b[38;5;241m.\u001b[39muniform_(\u001b[38;5;241m-\u001b[39m\u001b[38;5;241m0.1\u001b[39m, \u001b[38;5;241m0.1\u001b[39m))\n\u001b[1;32m      4\u001b[0m v \u001b[38;5;241m=\u001b[39m v\u001b[38;5;241m.\u001b[39mview(\u001b[38;5;241m1\u001b[39m, \u001b[38;5;241m5\u001b[39m, \u001b[38;5;241m3\u001b[39m, \u001b[38;5;241m3\u001b[39m)\n\u001b[0;32m----> 6\u001b[0m \u001b[43mu\u001b[49m\u001b[38;5;241;43m*\u001b[39;49m\u001b[43mv\u001b[49m\n",
      "\u001b[0;31mRuntimeError\u001b[0m: The size of tensor a (10) must match the size of tensor b (3) at non-singleton dimension 2"
     ]
    }
   ],
   "source": [
    "u = torch.nn.Parameter(torch.Tensor(10, 1).uniform_(-0.1, 0.1))\n",
    "v = torch.nn.Parameter(torch.Tensor(1, 5, 3, 3).uniform_(-0.1, 0.1))\n",
    "\n",
    "v = v.view(1, 5, 3, 3)\n",
    "\n",
    "u*v"
   ]
  },
  {
   "cell_type": "code",
   "execution_count": 147,
   "metadata": {},
   "outputs": [
    {
     "name": "stdout",
     "output_type": "stream",
     "text": [
      "This works\n"
     ]
    }
   ],
   "source": [
    "string = \"hejldjasweight\"\n",
    "\n",
    "if \"weight\" in string:\n",
    "    print(\"This works\")"
   ]
  },
  {
   "cell_type": "code",
   "execution_count": 11,
   "metadata": {},
   "outputs": [
    {
     "data": {
      "text/plain": [
       "-3.437516381367939"
      ]
     },
     "execution_count": 11,
     "metadata": {},
     "output_type": "execute_result"
    }
   ],
   "source": [
    "import numpy as np\n",
    "np.log(np.expm1(np.sqrt(0.001 / (1. - 0.001))))"
   ]
  },
  {
   "cell_type": "code",
   "execution_count": 7,
   "metadata": {},
   "outputs": [
    {
     "data": {
      "text/plain": [
       "tensor(0.3133)"
      ]
     },
     "execution_count": 7,
     "metadata": {},
     "output_type": "execute_result"
    }
   ],
   "source": [
    "import torch\n",
    "torch.log1p(torch.exp(torch.tensor(-1)))"
   ]
  },
  {
   "cell_type": "code",
   "execution_count": 26,
   "metadata": {},
   "outputs": [
    {
     "data": {
      "text/plain": [
       "True"
      ]
     },
     "execution_count": 26,
     "metadata": {},
     "output_type": "execute_result"
    }
   ],
   "source": [
    "(19 + 1) % 20 == 0"
   ]
  }
 ],
 "metadata": {
  "kernelspec": {
   "display_name": "bachelor_torch",
   "language": "python",
   "name": "python3"
  },
  "language_info": {
   "codemirror_mode": {
    "name": "ipython",
    "version": 3
   },
   "file_extension": ".py",
   "mimetype": "text/x-python",
   "name": "python",
   "nbconvert_exporter": "python",
   "pygments_lexer": "ipython3",
   "version": "3.10.14"
  }
 },
 "nbformat": 4,
 "nbformat_minor": 2
}
