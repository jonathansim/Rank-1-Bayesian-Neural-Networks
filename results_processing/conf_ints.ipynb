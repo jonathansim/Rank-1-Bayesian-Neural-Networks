{
 "cells": [
  {
   "cell_type": "code",
   "execution_count": 22,
   "metadata": {},
   "outputs": [
    {
     "name": "stdout",
     "output_type": "stream",
     "text": [
      "NLL: 0.1489 (0.0039)\n",
      "Accuracy: 95.9840 (0.1048)\n",
      "ECE: 0.0209 (0.0011)\n"
     ]
    }
   ],
   "source": [
    "import numpy as np\n",
    "from scipy.stats import t\n",
    "\n",
    "# Data from the table\n",
    "nll_mc = np.array([0.1488, 0.1467, 0.1460, 0.1541, 0.1491])\n",
    "accuracy_mc = np.array([96.11, 96.02, 95.96, 95.89, 95.94])\n",
    "ece_mc = np.array([0.01999, 0.02006, 0.02189, 0.02164, 0.02074])\n",
    "\n",
    "# Function to compute 95% confidence interval using t-distribution\n",
    "def compute_confidence_interval_t(data):\n",
    "    mean = np.mean(data)\n",
    "    std_err = np.std(data, ddof=1) / np.sqrt(len(data))\n",
    "    h = std_err * t.ppf(0.975, df=len(data)-1)  # 95% confidence interval\n",
    "    return mean, h\n",
    "\n",
    "# Compute confidence intervals using t-distribution\n",
    "nll_mean, h_nll = compute_confidence_interval_t(nll_mc)\n",
    "accuracy_mean, h_acc = compute_confidence_interval_t(accuracy_mc)\n",
    "ece_mean, h_ece = compute_confidence_interval_t(ece_mc)\n",
    "\n",
    "# Print results\n",
    "print(f\"NLL: {nll_mean:.4f} ({h_nll:.4f})\")\n",
    "print(f\"Accuracy: {accuracy_mean:.4f} ({h_acc:.4f})\")\n",
    "print(f\"ECE: {ece_mean:.4f} ({h_ece:.4f})\")\n"
   ]
  }
 ],
 "metadata": {
  "kernelspec": {
   "display_name": "bachelor_torch",
   "language": "python",
   "name": "python3"
  },
  "language_info": {
   "codemirror_mode": {
    "name": "ipython",
    "version": 3
   },
   "file_extension": ".py",
   "mimetype": "text/x-python",
   "name": "python",
   "nbconvert_exporter": "python",
   "pygments_lexer": "ipython3",
   "version": "3.10.14"
  }
 },
 "nbformat": 4,
 "nbformat_minor": 2
}
