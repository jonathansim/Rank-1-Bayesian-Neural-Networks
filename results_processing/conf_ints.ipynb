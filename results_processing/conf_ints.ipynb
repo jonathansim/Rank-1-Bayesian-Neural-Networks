{
 "cells": [
  {
   "cell_type": "code",
   "execution_count": 19,
   "metadata": {},
   "outputs": [
    {
     "name": "stdout",
     "output_type": "stream",
     "text": [
      "NLL: 0.1610 (0.0034)\n",
      "Accuracy: 95.8180 (0.0321)\n",
      "ECE: 0.0242 (0.0011)\n"
     ]
    }
   ],
   "source": [
    "import numpy as np\n",
    "from scipy.stats import t\n",
    "\n",
    "# Data from the table\n",
    "nll_mc = np.array([0.1592, 0.1633, 0.1593, 0.1645, 0.1586])\n",
    "accuracy_mc = np.array([95.83, 95.78, 95.81, 95.82, 95.85])\n",
    "ece_mc = np.array([0.02318, 0.02527, 0.02340, 0.02497, 0.02412])\n",
    "\n",
    "# Function to compute 95% confidence interval using t-distribution\n",
    "def compute_confidence_interval_t(data):\n",
    "    mean = np.mean(data)\n",
    "    std_err = np.std(data, ddof=1) / np.sqrt(len(data))\n",
    "    h = std_err * t.ppf(0.975, df=len(data)-1)  # 95% confidence interval\n",
    "    return mean, h\n",
    "\n",
    "# Compute confidence intervals using t-distribution\n",
    "nll_mean, h_nll = compute_confidence_interval_t(nll_mc)\n",
    "accuracy_mean, h_acc = compute_confidence_interval_t(accuracy_mc)\n",
    "ece_mean, h_ece = compute_confidence_interval_t(ece_mc)\n",
    "\n",
    "# Print results\n",
    "print(f\"NLL: {nll_mean:.4f} ({h_nll:.4f})\")\n",
    "print(f\"Accuracy: {accuracy_mean:.4f} ({h_acc:.4f})\")\n",
    "print(f\"ECE: {ece_mean:.4f} ({h_ece:.4f})\")\n"
   ]
  }
 ],
 "metadata": {
  "kernelspec": {
   "display_name": "bachelor_torch",
   "language": "python",
   "name": "python3"
  },
  "language_info": {
   "codemirror_mode": {
    "name": "ipython",
    "version": 3
   },
   "file_extension": ".py",
   "mimetype": "text/x-python",
   "name": "python",
   "nbconvert_exporter": "python",
   "pygments_lexer": "ipython3",
   "version": "3.10.14"
  }
 },
 "nbformat": 4,
 "nbformat_minor": 2
}
