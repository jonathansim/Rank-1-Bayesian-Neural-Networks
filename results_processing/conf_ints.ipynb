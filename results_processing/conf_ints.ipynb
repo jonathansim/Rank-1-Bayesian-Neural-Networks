{
 "cells": [
  {
   "cell_type": "code",
   "execution_count": 8,
   "metadata": {},
   "outputs": [
    {
     "name": "stdout",
     "output_type": "stream",
     "text": [
      "NLL: 1.3866 (0.0980)\n",
      "Accuracy: 68.7680 (1.1371)\n",
      "ECE: 0.1996 (0.0159)\n"
     ]
    }
   ],
   "source": [
    "import numpy as np\n",
    "from scipy.stats import t\n",
    "\n",
    "# Data from the table\n",
    "nll_mc = np.array([1.319, 1.485, 1.375, 1.449, 1.305])\n",
    "accuracy_mc = np.array([69.19, 67.61, 68.77, 68.25, 70.02])\n",
    "ece_mc = np.array([0.1923, 0.2152, 0.1976, 0.2092, 0.1835])\n",
    "\n",
    "# Function to compute 95% confidence interval using t-distribution\n",
    "def compute_confidence_interval_t(data):\n",
    "    mean = np.mean(data)\n",
    "    std_err = np.std(data, ddof=1) / np.sqrt(len(data))\n",
    "    h = std_err * t.ppf(0.975, df=len(data)-1)  # 95% confidence interval\n",
    "    return mean, h\n",
    "\n",
    "# Compute confidence intervals using t-distribution\n",
    "nll_mean, h_nll = compute_confidence_interval_t(nll_mc)\n",
    "accuracy_mean, h_acc = compute_confidence_interval_t(accuracy_mc)\n",
    "ece_mean, h_ece = compute_confidence_interval_t(ece_mc)\n",
    "\n",
    "# Print results\n",
    "print(f\"NLL: {nll_mean:.4f} ({h_nll:.4f})\")\n",
    "print(f\"Accuracy: {accuracy_mean:.4f} ({h_acc:.4f})\")\n",
    "print(f\"ECE: {ece_mean:.4f} ({h_ece:.4f})\")\n"
   ]
  }
 ],
 "metadata": {
  "kernelspec": {
   "display_name": "bachelor_torch",
   "language": "python",
   "name": "python3"
  },
  "language_info": {
   "codemirror_mode": {
    "name": "ipython",
    "version": 3
   },
   "file_extension": ".py",
   "mimetype": "text/x-python",
   "name": "python",
   "nbconvert_exporter": "python",
   "pygments_lexer": "ipython3",
   "version": "3.10.14"
  }
 },
 "nbformat": 4,
 "nbformat_minor": 2
}
